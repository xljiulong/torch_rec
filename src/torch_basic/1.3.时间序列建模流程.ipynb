{
 "cells": [
  {
   "cell_type": "code",
   "execution_count": 1,
   "metadata": {},
   "outputs": [
    {
     "name": "stdout",
     "output_type": "stream",
     "text": [
      "Looking in indexes: http://pypi.douban.com/simple, http://mirrors.aliyun.com/pypi/simple/, https://pypi.tuna.tsinghua.edu.cn/simple/, http://pypi.mirrors.ustc.edu.cn/simple/\n",
      "Collecting pytorch_lightning\n",
      "  Using cached https://mirrors.tuna.tsinghua.edu.cn/pypi/web/packages/26/b1/f0cbbabeceab4470bde31c025e4ce22084ff446a3f022100f032db9ea88b/pytorch_lightning-2.0.6-py3-none-any.whl (722 kB)\n",
      "Requirement already satisfied: numpy>=1.17.2 in /home/zhangjl19/.local/lib/python3.8/site-packages (from pytorch_lightning) (1.23.5)\n",
      "Requirement already satisfied: tqdm>=4.57.0 in /home/zhangjl19/miniconda3/envs/torch_graph2_cpu/lib/python3.8/site-packages (from pytorch_lightning) (4.65.0)\n",
      "Requirement already satisfied: typing-extensions>=4.0.0 in /home/zhangjl19/miniconda3/envs/torch_graph2_cpu/lib/python3.8/site-packages (from pytorch_lightning) (4.5.0)\n",
      "Requirement already satisfied: lightning-utilities>=0.7.0 in /home/zhangjl19/miniconda3/envs/torch_graph2_cpu/lib/python3.8/site-packages (from pytorch_lightning) (0.9.0)\n",
      "Requirement already satisfied: torchmetrics>=0.7.0 in /home/zhangjl19/miniconda3/envs/torch_graph2_cpu/lib/python3.8/site-packages (from pytorch_lightning) (1.0.1)\n",
      "Requirement already satisfied: packaging>=17.1 in /home/zhangjl19/miniconda3/envs/torch_graph2_cpu/lib/python3.8/site-packages (from pytorch_lightning) (23.1)\n",
      "Requirement already satisfied: fsspec[http]>2021.06.0 in /home/zhangjl19/miniconda3/envs/torch_graph2_cpu/lib/python3.8/site-packages (from pytorch_lightning) (2023.6.0)\n",
      "Requirement already satisfied: torch>=1.11.0 in /home/zhangjl19/miniconda3/envs/torch_graph2_cpu/lib/python3.8/site-packages (from pytorch_lightning) (2.0.1+cpu)\n",
      "Requirement already satisfied: PyYAML>=5.4 in /home/zhangjl19/miniconda3/envs/torch_graph2_cpu/lib/python3.8/site-packages (from pytorch_lightning) (6.0)\n",
      "Requirement already satisfied: requests in /home/zhangjl19/miniconda3/envs/torch_graph2_cpu/lib/python3.8/site-packages (from fsspec[http]>2021.06.0->pytorch_lightning) (2.31.0)\n"
     ]
    }
   ],
   "source": [
    "!pip install pytorch_lightning"
   ]
  },
  {
   "cell_type": "code",
   "execution_count": null,
   "metadata": {},
   "outputs": [],
   "source": [
    "import torch\n",
    "import pytorch_lightning\n",
    "\n",
    "import os\n",
    "import sys\n",
    "import datetime\n",
    "import torchkeras"
   ]
  },
  {
   "cell_type": "code",
   "execution_count": null,
   "metadata": {},
   "outputs": [],
   "source": [
    "import pandas as pd\n",
    "import numpy as np\n",
    "import matplotlib.pyplot as plt"
   ]
  },
  {
   "cell_type": "code",
   "execution_count": null,
   "metadata": {},
   "outputs": [],
   "source": [
    "df = pd.read_csv('/data/snlp/zhangjl/datas/ctr/eat_pytorch_datasets/covid-19.csv', \n",
    "                 sep='\\t')\n",
    "df.plot(x='date', y = [\"confirmed_num\",\"cured_num\",\"dead_num\"],figsize=(10,6))"
   ]
  },
  {
   "cell_type": "code",
   "execution_count": null,
   "metadata": {},
   "outputs": [],
   "source": [
    "dfdata = df.set_index(\"date\")\n",
    "dfdiff = dfdata.diff(periods=1).dropna()\n",
    "dfdiff = dfdiff.reset_index(\"date\")\n",
    "\n",
    "dfdiff.plot(x = \"date\",y = [\"confirmed_num\",\"cured_num\",\"dead_num\"],figsize=(10,6))\n",
    "plt.xticks(rotation=60)\n",
    "dfdiff = dfdiff.drop(\"date\",axis = 1).astype(\"float32\")"
   ]
  },
  {
   "cell_type": "code",
   "execution_count": null,
   "metadata": {},
   "outputs": [],
   "source": [
    "import torch\n",
    "from torch import nn \n",
    "from torch.utils.data import Dataset, DataLoader, TensorDataset\n",
    "\n",
    "WINDOW_SIZE = 8\n",
    "class Covid19DataSet(Dataset):\n",
    "    def __len__(self):\n",
    "        return len(dfdiff) - WINDOW_SIZE\n",
    "    \n",
    "    def __getitem__(self, i):\n",
    "        x = dfdiff.loc[i:i+WINDOW_SIZE-1,:]\n",
    "        feature = torch.tensor(x.values)\n",
    "        y = dfdiff.loc[i+WINDOW_SIZE,:]\n",
    "        label = torch.tensor(y.values)\n",
    "        return (feature,label)\n",
    "    \n",
    "ds_train = Covid19DataSet()\n",
    "dl_train = DataLoader(ds_train, batch_size=38)\n",
    "\n",
    "for features, labels in dl_train:\n",
    "    break\n",
    "\n",
    "dl_val = dl_train"
   ]
  },
  {
   "cell_type": "code",
   "execution_count": null,
   "metadata": {},
   "outputs": [],
   "source": [
    "import torch\n",
    "from torch import nn \n",
    "import importlib\n",
    "import torchkeras\n",
    "\n",
    "class Block(nn.Module):\n",
    "    def __init__(self):\n",
    "        super(Block, self).__init__()\n",
    "\n",
    "    def forward(self, x, x_input):\n",
    "        x_out = torch.max((1 +x) *x_input[:,-1,:], torch.tensor(0.0))\n",
    "        return x_out\n",
    "    \n",
    "class Net(nn.Module):\n",
    "    def __init__(self):\n",
    "        super(Net, self).__init__()\n",
    "        self.lstm = nn.LSTM(input_size=3, hidden_size=3, num_layers =5, batch_first=True)\n",
    "        self.linear = nn.Linear(3, 3)\n",
    "        self.block = Block()\n",
    "\n",
    "    def forward(self, x_input):\n",
    "        x = self.lstm(x_input)[0][:, -1, :]\n",
    "        x = self.linear(x)\n",
    "        y = self.block(x, x_input)\n",
    "        return y\n",
    "net = Net()\n",
    "print(net)"
   ]
  },
  {
   "cell_type": "code",
   "execution_count": null,
   "metadata": {},
   "outputs": [],
   "source": []
  }
 ],
 "metadata": {
  "kernelspec": {
   "display_name": "torch_graph2_cpu",
   "language": "python",
   "name": "python3"
  },
  "language_info": {
   "codemirror_mode": {
    "name": "ipython",
    "version": 3
   },
   "file_extension": ".py",
   "mimetype": "text/x-python",
   "name": "python",
   "nbconvert_exporter": "python",
   "pygments_lexer": "ipython3",
   "version": "3.8.16"
  },
  "orig_nbformat": 4
 },
 "nbformat": 4,
 "nbformat_minor": 2
}
