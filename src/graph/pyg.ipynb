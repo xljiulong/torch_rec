{
 "cells": [
  {
   "cell_type": "code",
   "execution_count": 1,
   "metadata": {},
   "outputs": [],
   "source": [
    "from torch_geometric.datasets import TUDataset\n"
   ]
  },
  {
   "cell_type": "code",
   "execution_count": 2,
   "metadata": {},
   "outputs": [
    {
     "name": "stderr",
     "output_type": "stream",
     "text": [
      "Downloading https://www.chrsmrrs.com/graphkerneldatasets/ENZYMES.zip\n",
      "Extracting ../../data/enzymes/ENZYMES/ENZYMES.zip\n",
      "Processing...\n",
      "Done!\n"
     ]
    }
   ],
   "source": [
    "dataset = TUDataset(root='../../data/enzymes', name='ENZYMES')"
   ]
  },
  {
   "cell_type": "code",
   "execution_count": 3,
   "metadata": {},
   "outputs": [
    {
     "data": {
      "text/plain": [
       "600"
      ]
     },
     "execution_count": 3,
     "metadata": {},
     "output_type": "execute_result"
    }
   ],
   "source": [
    "len(dataset)"
   ]
  },
  {
   "cell_type": "code",
   "execution_count": 4,
   "metadata": {},
   "outputs": [
    {
     "data": {
      "text/plain": [
       "6"
      ]
     },
     "execution_count": 4,
     "metadata": {},
     "output_type": "execute_result"
    }
   ],
   "source": [
    "dataset.num_classes"
   ]
  },
  {
   "cell_type": "code",
   "execution_count": 5,
   "metadata": {},
   "outputs": [
    {
     "data": {
      "text/plain": [
       "3"
      ]
     },
     "execution_count": 5,
     "metadata": {},
     "output_type": "execute_result"
    }
   ],
   "source": [
    "dataset.num_node_features"
   ]
  },
  {
   "cell_type": "code",
   "execution_count": 8,
   "metadata": {},
   "outputs": [
    {
     "data": {
      "text/plain": [
       "Data(edge_index=[2, 168], x=[37, 3], y=[1])"
      ]
     },
     "execution_count": 8,
     "metadata": {},
     "output_type": "execute_result"
    }
   ],
   "source": [
    "data = dataset[0]\n",
    "data"
   ]
  },
  {
   "cell_type": "code",
   "execution_count": 7,
   "metadata": {},
   "outputs": [
    {
     "data": {
      "text/plain": [
       "Data(edge_index=[2, 168], x=[37, 3], y=[1])"
      ]
     },
     "execution_count": 7,
     "metadata": {},
     "output_type": "execute_result"
    }
   ],
   "source": [
    "data"
   ]
  },
  {
   "cell_type": "code",
   "execution_count": 9,
   "metadata": {},
   "outputs": [
    {
     "data": {
      "text/plain": [
       "True"
      ]
     },
     "execution_count": 9,
     "metadata": {},
     "output_type": "execute_result"
    }
   ],
   "source": [
    "data.is_undirected()"
   ]
  },
  {
   "cell_type": "code",
   "execution_count": 11,
   "metadata": {},
   "outputs": [
    {
     "data": {
      "text/plain": [
       "ENZYMES(540)"
      ]
     },
     "execution_count": 11,
     "metadata": {},
     "output_type": "execute_result"
    }
   ],
   "source": [
    "train_dataset = dataset[:540]\n",
    "train_dataset"
   ]
  },
  {
   "cell_type": "code",
   "execution_count": 12,
   "metadata": {},
   "outputs": [
    {
     "data": {
      "text/plain": [
       "ENZYMES(60)"
      ]
     },
     "execution_count": 12,
     "metadata": {},
     "output_type": "execute_result"
    }
   ],
   "source": [
    "test_dataset = dataset[540:]\n",
    "test_dataset"
   ]
  },
  {
   "cell_type": "markdown",
   "metadata": {},
   "source": [
    "# CORA DEMO"
   ]
  },
  {
   "cell_type": "code",
   "execution_count": 17,
   "metadata": {},
   "outputs": [],
   "source": [
    "from torch_geometric.datasets import TUDataset\n",
    "from torch_geometric.loader import DataLoader"
   ]
  },
  {
   "cell_type": "code",
   "execution_count": 18,
   "metadata": {},
   "outputs": [],
   "source": [
    "dataset = TUDataset(root='../../data/enzymes/', name=\"ENZYMES\", use_node_attr=True)\n",
    "loader = DataLoader(dataset, batch_size=32, shuffle=True)"
   ]
  },
  {
   "cell_type": "code",
   "execution_count": 20,
   "metadata": {},
   "outputs": [
    {
     "name": "stdout",
     "output_type": "stream",
     "text": [
      "DataBatch(edge_index=[2, 3810], x=[1014, 21], y=[32], batch=[1014], ptr=[33])\n",
      "32\n",
      "DataBatch(edge_index=[2, 3472], x=[931, 21], y=[32], batch=[931], ptr=[33])\n",
      "32\n",
      "DataBatch(edge_index=[2, 4042], x=[1015, 21], y=[32], batch=[1015], ptr=[33])\n",
      "32\n",
      "DataBatch(edge_index=[2, 4006], x=[1029, 21], y=[32], batch=[1029], ptr=[33])\n",
      "32\n",
      "DataBatch(edge_index=[2, 3652], x=[932, 21], y=[32], batch=[932], ptr=[33])\n",
      "32\n",
      "DataBatch(edge_index=[2, 4054], x=[1104, 21], y=[32], batch=[1104], ptr=[33])\n",
      "32\n",
      "DataBatch(edge_index=[2, 3938], x=[1008, 21], y=[32], batch=[1008], ptr=[33])\n",
      "32\n",
      "DataBatch(edge_index=[2, 4124], x=[1048, 21], y=[32], batch=[1048], ptr=[33])\n",
      "32\n",
      "DataBatch(edge_index=[2, 3992], x=[1019, 21], y=[32], batch=[1019], ptr=[33])\n",
      "32\n",
      "DataBatch(edge_index=[2, 4104], x=[1132, 21], y=[32], batch=[1132], ptr=[33])\n",
      "32\n",
      "DataBatch(edge_index=[2, 3894], x=[1060, 21], y=[32], batch=[1060], ptr=[33])\n",
      "32\n",
      "DataBatch(edge_index=[2, 3808], x=[1020, 21], y=[32], batch=[1020], ptr=[33])\n",
      "32\n",
      "DataBatch(edge_index=[2, 4098], x=[1054, 21], y=[32], batch=[1054], ptr=[33])\n",
      "32\n",
      "DataBatch(edge_index=[2, 4440], x=[1169, 21], y=[32], batch=[1169], ptr=[33])\n",
      "32\n",
      "DataBatch(edge_index=[2, 4230], x=[1123, 21], y=[32], batch=[1123], ptr=[33])\n",
      "32\n",
      "DataBatch(edge_index=[2, 3774], x=[981, 21], y=[32], batch=[981], ptr=[33])\n",
      "32\n",
      "DataBatch(edge_index=[2, 4066], x=[1072, 21], y=[32], batch=[1072], ptr=[33])\n",
      "32\n",
      "DataBatch(edge_index=[2, 4278], x=[1141, 21], y=[32], batch=[1141], ptr=[33])\n",
      "32\n",
      "DataBatch(edge_index=[2, 2782], x=[728, 21], y=[24], batch=[728], ptr=[25])\n",
      "24\n"
     ]
    }
   ],
   "source": [
    "for batch in loader:\n",
    "    print(batch)\n",
    "    print(batch.num_graphs)"
   ]
  },
  {
   "cell_type": "code",
   "execution_count": 21,
   "metadata": {},
   "outputs": [
    {
     "name": "stderr",
     "output_type": "stream",
     "text": [
      "Downloading https://shapenet.cs.stanford.edu/media/shapenetcore_partanno_segmentation_benchmark_v0_normal.zip\n",
      "Extracting ../../data/shapenet/shapenetcore_partanno_segmentation_benchmark_v0_normal.zip\n",
      "Processing...\n",
      "Done!\n"
     ]
    },
    {
     "data": {
      "text/plain": [
       "Data(x=[2518, 3], y=[2518], pos=[2518, 3], category=[1])"
      ]
     },
     "execution_count": 21,
     "metadata": {},
     "output_type": "execute_result"
    }
   ],
   "source": [
    "from torch_geometric.datasets import ShapeNet\n",
    "dataset = ShapeNet(root='../../data/shapenet', categories=['Airplane'])\n",
    "dataset[0]"
   ]
  },
  {
   "cell_type": "code",
   "execution_count": null,
   "metadata": {},
   "outputs": [],
   "source": []
  }
 ],
 "metadata": {
  "kernelspec": {
   "display_name": "torch_graph2_cpu",
   "language": "python",
   "name": "python3"
  },
  "language_info": {
   "codemirror_mode": {
    "name": "ipython",
    "version": 3
   },
   "file_extension": ".py",
   "mimetype": "text/x-python",
   "name": "python",
   "nbconvert_exporter": "python",
   "pygments_lexer": "ipython3",
   "version": "3.8.16"
  },
  "orig_nbformat": 4
 },
 "nbformat": 4,
 "nbformat_minor": 2
}
