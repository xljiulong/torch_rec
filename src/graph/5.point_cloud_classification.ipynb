{
 "cells": [
  {
   "cell_type": "code",
   "execution_count": 1,
   "metadata": {},
   "outputs": [
    {
     "name": "stdout",
     "output_type": "stream",
     "text": [
      "2.0.1+cpu\n"
     ]
    }
   ],
   "source": [
    "import os\n",
    "import torch\n",
    "os.environ['TORCH'] = torch.__version__\n",
    "print(torch.__version__)"
   ]
  },
  {
   "cell_type": "code",
   "execution_count": 2,
   "metadata": {},
   "outputs": [],
   "source": [
    "import matplotlib.pyplot as plt\n",
    "from mpl_toolkits.mplot3d import Axes3D\n",
    "\n",
    "def visualize_mesh(pos, face):\n",
    "    fig = plt.figure()\n",
    "    ax = fig.gca(projection='3d')\n",
    "    ax.axes.xaxis.set_ticklabels([])\n",
    "    ax.axes.yaxis.set_ticklabels([])\n",
    "    ax.axes.zaxis.set_ticklabels([])\n",
    "    ax.plot_trisurf(pos[:, 0], pos[:, 1], pos[:, 2], triangles=data.face.t(), antialiased=False)\n",
    "    plt.show()\n",
    "\n",
    "\n",
    "def visualize_points(pos, edge_index=None, index=None):\n",
    "    fig = plt.figure(figsize=(4, 4))\n",
    "    if edge_index is not None:\n",
    "        for (src, dst) in edge_index.t().tolist():\n",
    "             src = pos[src].tolist()\n",
    "             dst = pos[dst].tolist()\n",
    "             plt.plot([src[0], dst[0]], [src[1], dst[1]], linewidth=1, color='black')\n",
    "    if index is None:\n",
    "        plt.scatter(pos[:, 0], pos[:, 1], s=50, zorder=1000)\n",
    "    else:\n",
    "       mask = torch.zeros(pos.size(0), dtype=torch.bool)\n",
    "       mask[index] = True\n",
    "       plt.scatter(pos[~mask, 0], pos[~mask, 1], s=50, color='lightgray', zorder=1000)\n",
    "       plt.scatter(pos[mask, 0], pos[mask, 1], s=50, zorder=1000)\n",
    "    plt.axis('off')\n",
    "    plt.show()"
   ]
  },
  {
   "cell_type": "code",
   "execution_count": 4,
   "metadata": {},
   "outputs": [
    {
     "name": "stderr",
     "output_type": "stream",
     "text": [
      "Downloading https://github.com/Yannick-S/geometric_shapes/raw/master/raw.zip\n",
      "Extracting ../../data/geometricshapes/raw.zip\n",
      "Processing...\n",
      "Done!\n"
     ]
    }
   ],
   "source": [
    "from torch_geometric.datasets import GeometricShapes\n",
    "\n",
    "dataset = GeometricShapes(root='../../data/geometricshapes')"
   ]
  },
  {
   "cell_type": "code",
   "execution_count": 5,
   "metadata": {},
   "outputs": [
    {
     "name": "stdout",
     "output_type": "stream",
     "text": [
      "GeometricShapes(40)\n"
     ]
    }
   ],
   "source": [
    "print(dataset)"
   ]
  },
  {
   "cell_type": "code",
   "execution_count": 6,
   "metadata": {},
   "outputs": [
    {
     "name": "stdout",
     "output_type": "stream",
     "text": [
      "Data(pos=[32, 3], face=[3, 30], y=[1])\n"
     ]
    }
   ],
   "source": [
    "data = dataset[0]\n",
    "print(data)"
   ]
  },
  {
   "cell_type": "code",
   "execution_count": null,
   "metadata": {},
   "outputs": [],
   "source": [
    "visualize_mesh(data.pos, data.face)"
   ]
  },
  {
   "cell_type": "code",
   "execution_count": 8,
   "metadata": {},
   "outputs": [],
   "source": [
    "import torch\n",
    "from torch_geometric.transforms import SamplePoints"
   ]
  },
  {
   "cell_type": "code",
   "execution_count": 9,
   "metadata": {},
   "outputs": [
    {
     "name": "stdout",
     "output_type": "stream",
     "text": [
      "Data(pos=[256, 3], y=[1])\n"
     ]
    }
   ],
   "source": [
    "torch.manual_seed(123456)\n",
    "dataset.transform = SamplePoints(num=256)\n",
    "\n",
    "data = dataset[0]\n",
    "print(data)"
   ]
  },
  {
   "cell_type": "code",
   "execution_count": 10,
   "metadata": {},
   "outputs": [
    {
     "data": {
      "image/png": "[encoded data removed]",
      "text/plain": [
       "<Figure size 400x400 with 1 Axes>"
      ]
     },
     "metadata": {},
     "output_type": "display_data"
    }
   ],
   "source": [
    "visualize_points(data.pos, data.edge_index)"
   ]
  },
  {
   "cell_type": "code",
   "execution_count": 11,
   "metadata": {},
   "outputs": [
    {
     "name": "stdout",
     "output_type": "stream",
     "text": [
      "torch.Size([2, 1536])\n"
     ]
    }
   ],
   "source": [
    "from torch_cluster import knn_graph\n",
    "data = dataset[0]\n",
    "data.edge_index = knn_graph(data.pos, k=6)\n",
    "print(data.edge_index.shape)"
   ]
  },
  {
   "cell_type": "code",
   "execution_count": 12,
   "metadata": {},
   "outputs": [],
   "source": [
    "from torch.nn import Sequential, Linear, ReLU\n",
    "from torch_geometric.nn import MessagePassing\n",
    "\n",
    "class PointNetLayer(MessagePassing):\n",
    "    def __init__(self, in_channels, out_channels):\n",
    "        super().__init__(aggr='max')\n",
    "        self.mlp = Sequential(Linear(in_channels + 3, out_channels),\n",
    "                              ReLU(),\n",
    "                              Linear(out_channels, out_channels))\n",
    "        \n",
    "    def forward(self, h, pos, edge_index):\n",
    "        # Start propagating messages.\n",
    "        return self.propagate(edge_index, h=h, pos=pos)\n",
    "\n",
    "\n",
    "    def message(self, h_j, pos_j, pos_i):\n",
    "        # h_j defines the features of neighboring nodes as shape [num_edges, in_channels]\n",
    "        # pos_j defines the position of neighboring nodes as shape [num_edges, 3]\n",
    "        # pos_i defines the position of central nodes as shape [num_edges, 3]\n",
    "\n",
    "        input = pos_j - pos_i  # Compute spatial relation.\n",
    "\n",
    "        if h_j is not None:\n",
    "            # In the first layer, we may not have any hidden node features,\n",
    "            # so we only combine them in case they are present.\n",
    "            input = torch.cat([h_j, input], dim=-1)\n",
    "\n",
    "        return self.mlp(input)  # Apply our final MLP."
   ]
  },
  {
   "cell_type": "code",
   "execution_count": 13,
   "metadata": {},
   "outputs": [],
   "source": [
    "import torch\n",
    "import torch.nn.functional as F \n",
    "from torch_cluster import knn_graph\n",
    "from torch_geometric.nn import global_max_pool\n"
   ]
  },
  {
   "cell_type": "code",
   "execution_count": 14,
   "metadata": {},
   "outputs": [],
   "source": [
    "class PointNet(torch.nn.Module):\n",
    "    def __init__(self, *args, **kwargs) -> None:\n",
    "        super().__init__(*args, **kwargs)\n",
    "\n",
    "        torch.manual_seed(123456)\n",
    "        self.conv1 = PointNetLayer(3, 32)\n",
    "        self.conv2 = PointNetLayer(32, 32)\n",
    "        self.classifier = Linear(32, dataset.num_classes)\n",
    "\n",
    "    def forward(self, pos, batch):\n",
    "         # Compute the kNN graph:\n",
    "        # Here, we need to pass the batch vector to the function call in order\n",
    "        # to prevent creating edges between points of different examples.\n",
    "        # We also add `loop=True` which will add self-loops to the graph in\n",
    "        # order to preserve central point information.\n",
    "        edge_index = knn_graph(pos, k=16, batch=batch, loop=True)\n",
    "        \n",
    "        # 3. Start bipartite message passing.\n",
    "        h = self.conv1(h=pos, pos=pos, edge_index=edge_index)\n",
    "        h = h.relu()\n",
    "        h = self.conv2(h=h, pos=pos, edge_index=edge_index)\n",
    "        h = h.relu()\n",
    "\n",
    "        # 4. Global Pooling.\n",
    "        h = global_max_pool(h, batch)  # [num_examples, hidden_channels]\n",
    "        \n",
    "        # 5. Classifier.\n",
    "        return self.classifier(h)"
   ]
  },
  {
   "cell_type": "code",
   "execution_count": 15,
   "metadata": {},
   "outputs": [
    {
     "name": "stdout",
     "output_type": "stream",
     "text": [
      "PointNet(\n",
      "  (conv1): PointNetLayer()\n",
      "  (conv2): PointNetLayer()\n",
      "  (classifier): Linear(in_features=32, out_features=40, bias=True)\n",
      ")\n"
     ]
    }
   ],
   "source": [
    "model = PointNet()\n",
    "print(model)"
   ]
  },
  {
   "cell_type": "code",
   "execution_count": null,
   "metadata": {},
   "outputs": [],
   "source": []
  }
 ],
 "metadata": {
  "kernelspec": {
   "display_name": "torch_graph2_cpu",
   "language": "python",
   "name": "python3"
  },
  "language_info": {
   "codemirror_mode": {
    "name": "ipython",
    "version": 3
   },
   "file_extension": ".py",
   "mimetype": "text/x-python",
   "name": "python",
   "nbconvert_exporter": "python",
   "pygments_lexer": "ipython3",
   "version": "3.8.16"
  },
  "orig_nbformat": 4
 },
 "nbformat": 4,
 "nbformat_minor": 2
}
